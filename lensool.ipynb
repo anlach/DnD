{
 "metadata": {
  "language_info": {
   "codemirror_mode": {
    "name": "ipython",
    "version": 3
   },
   "file_extension": ".py",
   "mimetype": "text/x-python",
   "name": "python",
   "nbconvert_exporter": "python",
   "pygments_lexer": "ipython3",
   "version": "3.8.6-final"
  },
  "orig_nbformat": 2,
  "kernelspec": {
   "name": "python3",
   "display_name": "Python 3",
   "language": "python"
  }
 },
 "nbformat": 4,
 "nbformat_minor": 2,
 "cells": [
  {
   "source": [
    "# Lensool\n",
    "## Loxodon Fighter (Battle Master)\n",
    "\n",
    "\n",
    "| Strength | Dexterity | Constitution | Intelligence | Wisdom | Charisma |\n",
    "|-|\n",
    "| 20 | 8 | 16 | 10 | 12 | 10 | \n",
    "| +5 | -1 | +3 | 0 | +1 | 0 |\n",
    "\n",
    "Proficiency | Walking | Initiative | Max HP\n",
    "|-|\n",
    "+3 | 30ft | +1 | 74\n",
    "\n",
    "**Fighting Style:** Interception\n",
    "\n",
    "\n",
    "\n",
    "\n"
   ],
   "cell_type": "markdown",
   "metadata": {}
  },
  {
   "cell_type": "code",
   "execution_count": 100,
   "metadata": {},
   "outputs": [],
   "source": [
    "import dnd\n",
    "from importlib import reload\n",
    "reload(dnd)\n",
    "from dnd import roll"
   ]
  },
  {
   "cell_type": "code",
   "execution_count": 105,
   "metadata": {},
   "outputs": [
    {
     "output_type": "execute_result",
     "data": {
      "text/plain": [
       "{'hp': 74, 'n_superiority': 5}"
      ]
     },
     "metadata": {},
     "execution_count": 105
    }
   ],
   "source": [
    "# Status\n",
    "dict(\n",
    "    hp=74,\n",
    "    n_superiority=5\n",
    ")"
   ]
  },
  {
   "cell_type": "code",
   "execution_count": 72,
   "metadata": {},
   "outputs": [
    {
     "output_type": "stream",
     "name": "stdout",
     "text": [
      "d20: 10\n\nCharisma: [10]\n"
     ]
    }
   ],
   "source": [
    "print(f\"Charisma: {roll('1d20') + 0}\")"
   ]
  },
  {
   "cell_type": "code",
   "execution_count": 75,
   "metadata": {},
   "outputs": [
    {
     "output_type": "stream",
     "name": "stdout",
     "text": [
      "d20: 10\n\nStrength: 18\n"
     ]
    }
   ],
   "source": [
    "print(f\"Strength: {roll('1d20')[0] + 8}\")"
   ]
  },
  {
   "cell_type": "code",
   "execution_count": 104,
   "metadata": {},
   "outputs": [
    {
     "output_type": "stream",
     "name": "stdout",
     "text": [
      "d6: 2\n\nd8: 7\n\nd10: 4\n\nd12: 1\n\nd20: 13\n\nd100: 28\n\n"
     ]
    },
    {
     "output_type": "execute_result",
     "data": {
      "text/plain": [
       "array([ 2,  7,  4,  1, 13, 28])"
      ]
     },
     "metadata": {},
     "execution_count": 104
    }
   ],
   "source": [
    "roll('1d6 1d8 1d10 1d12 1d20 1d100')"
   ]
  },
  {
   "cell_type": "code",
   "execution_count": 99,
   "metadata": {},
   "outputs": [
    {
     "output_type": "stream",
     "name": "stdout",
     "text": [
      "d10: 4\n\nInterception: 7\n"
     ]
    }
   ],
   "source": [
    "print(f\"Interception: {roll('1d10')[0] + 3}\")"
   ]
  },
  {
   "source": [
    "# Battle Master Maneuvers\n",
    "## Brace\n",
    "When a creature you can see moves into the reach you have with the melee weapon you're wielding, you can use your reaction to expend one superiority die and make one attack against the creature, using that weapon. If the attack hits, add the superiority die to the weapon's damage roll.\n",
    "## Commander's Strike\n",
    "When you take the Attack action on your turn, you can forgo one of your attacks and use a bonus action to direct one of your companions to strike. When you do so, choose a friendly creature who can see or hear you and expend one superiority die. That creature can immediately use its reaction to make one weapon attack, adding the superiority die to the attack's damage roll.\n",
    "## Lunging Attack\n",
    "When you make a melee weapon attack on your turn, you can expend one superiority die to increase your reach for that attack by 5 feet. If you hit, you add the superiority die to the attack's damage roll\n",
    "## Disarming Attack\n",
    "When you hit a creature with a weapon attack, you can expend one superiority die to attempt to disarm the target, forcing it to drop one item of your choice that it's holding. You add the superiority die to the attack's damage roll, and the target must make a Strength saving throw. On a failed save, it drops the object you choose. The object lands at its feet.\n",
    "## Grappling Strike\n",
    "Immediately after you hit a creature with a melee attack on your turn, you can expend one superiority die and then try to grapple the target as a bonus action (see the Player's Handbook for rules on grappling). Add the superiority die to your Strength (Athletics) check.\n",
    "\n",
    "# Fighter Abilities\n",
    "## Second Wind\n",
    "You have a limited well of stamina that you can draw on to protect yourself from harm. On your turn, you can use a bonus action to regain hit points equal to 1d10 + your fighter level.\n",
    "\n",
    "Once you use this feature, you must finish a short or long rest before you can use it again.\n",
    "\n",
    "## Action Surge\n",
    "Starting at 2nd level, you can push yourself beyond your normal limits for a moment. On your turn, you can take one additional action.\n",
    "\n",
    "Once you use this feature, you must finish a short or long rest before you can use it again. Starting at 17th level, you can use it twice before a rest, but only once on the same turn.\n"
   ],
   "cell_type": "markdown",
   "metadata": {}
  },
  {
   "source": [
    "# Backstory\n",
    "\n",
    "Not very smart. Afraid of small, squeaky things, like mice. Has some rare temper issues - got angry at a copilot at 80 years old, killed the pilot in mid-flight. The airship crashed, and Lensool was the only survivor.  He went through some dark times after that. He then picked up with a group of revolutionaries, the Orzhov Radical Reformation Society, led by Kel, another Loxodon. They fell in love, and Kel was the only one who ever treated him with respect. They used to ambush arms shipments and assasinate members of the Orzhov upper eschelon that they blamed for the Orzhov taxation and trade/subjugation of souls and spirits. Karl was a third party mercenary that was sometimes hired for jobs. Then there was a plan that went wrong.  Kel was betrayed during an assassination attempt.  She was double crossed by a member of the Society.  Another society member had to kill her after she was captured, so that she wouldn't be tortured.  That was the last time that Lenstool saw Karl.\n"
   ],
   "cell_type": "markdown",
   "metadata": {}
  },
  {
   "cell_type": "code",
   "execution_count": null,
   "metadata": {},
   "outputs": [],
   "source": []
  }
 ]
}