{
 "metadata": {
  "language_info": {
   "codemirror_mode": {
    "name": "ipython",
    "version": 3
   },
   "file_extension": ".py",
   "mimetype": "text/x-python",
   "name": "python",
   "nbconvert_exporter": "python",
   "pygments_lexer": "ipython3",
   "version": "3.8.6-final"
  },
  "orig_nbformat": 2,
  "kernelspec": {
   "name": "python3",
   "display_name": "Python 3",
   "language": "python"
  }
 },
 "nbformat": 4,
 "nbformat_minor": 2,
 "cells": [
  {
   "source": [
    "# Lensool\n",
    "Loxodon\n",
    "\n",
    "| Strength | Dexterity | Constitution | Intelligenc | Wisdom | Charisma |\n",
    "|-|\n",
    "| 20 | 8 | 16 | 10 | 12 | 10 | \n",
    "| 5 | -1 | 3 | 0 | 1 | 0 |\n"
   ],
   "cell_type": "markdown",
   "metadata": {}
  },
  {
   "cell_type": "code",
   "execution_count": 57,
   "metadata": {},
   "outputs": [],
   "source": [
    "import dnd\n",
    "from importlib import reload\n",
    "reload(dnd)\n",
    "from dnd import roll"
   ]
  },
  {
   "cell_type": "code",
   "execution_count": 72,
   "metadata": {},
   "outputs": [
    {
     "output_type": "stream",
     "name": "stdout",
     "text": [
      "d20: 10\n\nCharisma: [10]\n"
     ]
    }
   ],
   "source": [
    "print(f\"Charisma: {roll('1d20') + 0}\")"
   ]
  },
  {
   "cell_type": "code",
   "execution_count": 75,
   "metadata": {},
   "outputs": [
    {
     "output_type": "stream",
     "name": "stdout",
     "text": [
      "d20: 10\n\nStrength: 18\n"
     ]
    }
   ],
   "source": [
    "print(f\"Strength: {roll('1d20')[0] + 8}\")"
   ]
  },
  {
   "cell_type": "code",
   "execution_count": 70,
   "metadata": {},
   "outputs": [
    {
     "output_type": "stream",
     "name": "stdout",
     "text": [
      "d6: 6\n\nd8: 5\n\nd10: 6\n\nd12: 5\n\nd20: 10\n\nd100: 90\n\n"
     ]
    },
    {
     "output_type": "execute_result",
     "data": {
      "text/plain": [
       "array([ 6,  5,  6,  5, 10, 90])"
      ]
     },
     "metadata": {},
     "execution_count": 70
    }
   ],
   "source": [
    "roll('1d6 1d8 1d10 1d12 1d20 1d100')"
   ]
  },
  {
   "cell_type": "code",
   "execution_count": null,
   "metadata": {},
   "outputs": [],
   "source": []
  },
  {
   "cell_type": "code",
   "execution_count": null,
   "metadata": {},
   "outputs": [],
   "source": []
  }
 ]
}